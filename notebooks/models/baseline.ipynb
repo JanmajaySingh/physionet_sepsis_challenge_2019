{
 "cells": [
  {
   "cell_type": "code",
   "execution_count": 2,
   "metadata": {},
   "outputs": [],
   "source": [
    "import sys; sys.path.append('../../')\n",
    "from definitions import *\n",
    "from notebooks.nb_imports import *"
   ]
  },
  {
   "cell_type": "code",
   "execution_count": 3,
   "metadata": {},
   "outputs": [],
   "source": [
    "from sklearn.metrics import confusion_matrix, f1_score, accuracy_score, roc_auc_score\n",
    "from src.models.evaluators import ComputeNormalizedUtility"
   ]
  },
  {
   "cell_type": "code",
   "execution_count": 4,
   "metadata": {},
   "outputs": [],
   "source": [
    "# Labels and the predictions for a 15 lookback window\n",
    "labels = load_pickle(ROOT_DIR + '/data/processed/labels/original.pickle')\n",
    "data = load_pickle(ROOT_DIR + '/data/interim/munged/df.pickle')\n",
    "predictions = load_pickle(ROOT_DIR + '/models/experiments/basic_sig/1/predictions.pickle')"
   ]
  },
  {
   "cell_type": "code",
   "execution_count": 5,
   "metadata": {},
   "outputs": [
    {
     "data": {
      "text/plain": [
       "Index(['HR', 'O2Sat', 'Temp', 'SBP', 'MAP', 'DBP', 'Resp', 'EtCO2',\n",
       "       'BaseExcess', 'HCO3', 'FiO2', 'pH', 'PaCO2', 'SaO2', 'AST', 'BUN',\n",
       "       'Alkalinephos', 'Calcium', 'Chloride', 'Creatinine', 'Bilirubin_direct',\n",
       "       'Glucose', 'Lactate', 'Magnesium', 'Phosphate', 'Potassium',\n",
       "       'Bilirubin_total', 'TroponinI', 'Hct', 'Hgb', 'PTT', 'WBC',\n",
       "       'Fibrinogen', 'Platelets', 'Age', 'Gender', 'Unit1', 'Unit2',\n",
       "       'HospAdmTime', 'ICULOS', 'hospital', 'ShockIndex', 'BUN/CR',\n",
       "       'HepaticSOFA', 'MEWS', 'qSOFA', 'SOFA', 'SOFA_deterioration',\n",
       "       'SepticShock', 'SIRS', 'SIRS_path'],\n",
       "      dtype='object')"
      ]
     },
     "execution_count": 5,
     "metadata": {},
     "output_type": "execute_result"
    }
   ],
   "source": [
    "data.columns"
   ]
  },
  {
   "cell_type": "markdown",
   "metadata": {},
   "source": [
    "# Sepsis score when predicting based purely on time\n",
    "Here we see we can get resonable score performance when we predict purely based on time. The max occurs setting t=1 at around 52hrs"
   ]
  },
  {
   "cell_type": "code",
   "execution_count": 5,
   "metadata": {},
   "outputs": [],
   "source": [
    "# Get the length of stay\n",
    "los = data['ICULOS']"
   ]
  },
  {
   "cell_type": "code",
   "execution_count": 6,
   "metadata": {},
   "outputs": [],
   "source": [
    "# Set a new col to 1 if LOS > T\n",
    "preds = pd.Series(index=los.index, data=0)\n",
    "preds[los > 60] = 1\n",
    "preds = preds[los>60]"
   ]
  },
  {
   "cell_type": "code",
   "execution_count": 7,
   "metadata": {},
   "outputs": [
    {
     "name": "stdout",
     "output_type": "stream",
     "text": [
      "Max score: 0.283 at t=52\n"
     ]
    },
    {
     "data": {
      "image/png": "[encoded data removed]",
      "text/plain": [
       "<Figure size 432x288 with 1 Axes>"
      ]
     },
     "metadata": {
      "needs_background": "light"
     },
     "output_type": "display_data"
    }
   ],
   "source": [
    "tt = [40, 50, 52, 54, 58, 60, 70]\n",
    "scores = []\n",
    "for t in tt:\n",
    "    preds = pd.Series(index=los.index, data=0)\n",
    "    preds[los > t] = 1\n",
    "    score = ComputeNormalizedUtility().score(labels, preds)\n",
    "    scores.append(score)\n",
    "plt.plot(tt, scores)\n",
    "print('Max score: {:.3f} at t={}'.format(max(scores), tt[np.argmax(scores)]))"
   ]
  },
  {
   "cell_type": "markdown",
   "metadata": {},
   "source": [
    "# Sepsis score if only late times counted\n",
    "We know that prediction of pure 1s at late times can get a resonable score, here we see what the score is if we just considered that segment.\n",
    "\n",
    "> A score of 0.825 is achieved on the t > 58 section if we predict 1s for everything such that t > 58"
   ]
  },
  {
   "cell_type": "code",
   "execution_count": 18,
   "metadata": {},
   "outputs": [
    {
     "name": "stdout",
     "output_type": "stream",
     "text": [
      "Max score: 0.792 at t=70\n"
     ]
    },
    {
     "data": {
      "image/png": "[encoded data removed]",
      "text/plain": [
       "<Figure size 432x288 with 1 Axes>"
      ]
     },
     "metadata": {
      "needs_background": "light"
     },
     "output_type": "display_data"
    }
   ],
   "source": [
    "tt = [40, 50, 52, 54, 56, 57, 58, 59, 60, 70]\n",
    "scores = []\n",
    "for t in tt:\n",
    "    preds = pd.Series(index=los.index, data=0)\n",
    "    preds[los > t] = 1\n",
    "    preds = preds[los > t]\n",
    "    score = ComputeNormalizedUtility().score(labels.loc[preds.index], preds)\n",
    "    scores.append(score)\n",
    "plt.plot(tt, scores)\n",
    "print('Max score: {:.3f} at t={}'.format(max(scores), tt[np.argmax(scores)]))"
   ]
  },
  {
   "cell_type": "code",
   "execution_count": null,
   "metadata": {},
   "outputs": [],
   "source": [
    "scores"
   ]
  },
  {
   "cell_type": "markdown",
   "metadata": {},
   "source": [
    "It thus makes sense that if we can improve prediction for t <= 58, then we will get an extremely high utility. But t < 58 is of course most of the data. "
   ]
  },
  {
   "cell_type": "markdown",
   "metadata": {},
   "source": [
    "# Predictions at t < 58"
   ]
  },
  {
   "cell_type": "markdown",
   "metadata": {},
   "source": [
    "## Score to beat\n",
    "Here we give the score we want to beat at t < 58 if we predict one for all t > 58"
   ]
  },
  {
   "cell_type": "markdown",
   "metadata": {},
   "source": [
    "### Overall"
   ]
  },
  {
   "cell_type": "code",
   "execution_count": 11,
   "metadata": {},
   "outputs": [
    {
     "name": "stdout",
     "output_type": "stream",
     "text": [
      "Score when looking at t < 58: 0.171\n"
     ]
    }
   ],
   "source": [
    "preds = predictions.loc[pd.IndexSlice[:, :58]]\n",
    "score = ComputeNormalizedUtility().score(labels.loc[preds.index], preds)\n",
    "print('Score when looking at t < 58: {:.3f}'.format(score))"
   ]
  },
  {
   "cell_type": "markdown",
   "metadata": {},
   "source": [
    "**The score is 0.171 for t < 58 if we just look at these early times at t < 58. If we can simply improve on this we will have a good method of classification.**"
   ]
  },
  {
   "cell_type": "markdown",
   "metadata": {},
   "source": [
    "### If we look at each cumulative time separately\n",
    "That is, what is the overall score if we consider data up to t.\n",
    "\n",
    "> Worst scores occur between around 0 and 60"
   ]
  },
  {
   "cell_type": "code",
   "execution_count": 20,
   "metadata": {},
   "outputs": [],
   "source": [
    "tt = range(1, 70, 5)\n",
    "scores = pd.Series(index=tt)\n",
    "\n",
    "for t in tt:\n",
    "    p = predictions.loc[:, :t]\n",
    "    score = ComputeNormalizedUtility().score(labels.loc[p.index], p)\n",
    "    scores.loc[t] = score"
   ]
  },
  {
   "cell_type": "code",
   "execution_count": 21,
   "metadata": {},
   "outputs": [
    {
     "data": {
      "text/plain": [
       "[<matplotlib.lines.Line2D at 0x1167e9cc0>]"
      ]
     },
     "execution_count": 21,
     "metadata": {},
     "output_type": "execute_result"
    },
    {
     "data": {
      "image/png": "[encoded data removed]",
      "text/plain": [
       "<Figure size 432x288 with 1 Axes>"
      ]
     },
     "metadata": {
      "needs_background": "light"
     },
     "output_type": "display_data"
    }
   ],
   "source": [
    "plt.plot(tt, scores)"
   ]
  },
  {
   "cell_type": "markdown",
   "metadata": {},
   "source": [
    "**We should create new predictors in the 0 to 50 region that will hopefully not have time being so impactful.**"
   ]
  },
  {
   "cell_type": "code",
   "execution_count": 22,
   "metadata": {},
   "outputs": [
    {
     "data": {
      "text/plain": [
       "1    -0.016610\n",
       "6     0.144844\n",
       "11    0.178404\n",
       "16    0.173441\n",
       "21    0.170028\n",
       "26    0.166002\n",
       "31    0.156555\n",
       "36    0.147644\n",
       "41    0.144267\n",
       "46    0.143895\n",
       "51    0.151477\n",
       "56    0.164655\n",
       "61    0.184564\n",
       "66    0.204328\n",
       "dtype: float64"
      ]
     },
     "execution_count": 22,
     "metadata": {},
     "output_type": "execute_result"
    }
   ],
   "source": [
    "scores"
   ]
  },
  {
   "cell_type": "code",
   "execution_count": null,
   "metadata": {},
   "outputs": [],
   "source": []
  }
 ],
 "metadata": {
  "kernelspec": {
   "display_name": "Python 3",
   "language": "python",
   "name": "python3"
  },
  "language_info": {
   "codemirror_mode": {
    "name": "ipython",
    "version": 3
   },
   "file_extension": ".py",
   "mimetype": "text/x-python",
   "name": "python",
   "nbconvert_exporter": "python",
   "pygments_lexer": "ipython3",
   "version": "3.7.3"
  }
 },
 "nbformat": 4,
 "nbformat_minor": 2
}
