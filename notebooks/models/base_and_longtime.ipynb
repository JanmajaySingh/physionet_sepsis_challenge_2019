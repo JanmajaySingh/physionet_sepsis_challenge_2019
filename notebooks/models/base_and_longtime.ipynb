{
 "cells": [
  {
   "cell_type": "code",
   "execution_count": 1,
   "metadata": {},
   "outputs": [],
   "source": [
    "import sys; sys.path.append('../../')\n",
    "from definitions import *\n",
    "from notebooks.nb_imports import *"
   ]
  },
  {
   "cell_type": "code",
   "execution_count": 5,
   "metadata": {},
   "outputs": [],
   "source": [
    "from src.models.optimizers import ThresholdOptimizer"
   ]
  },
  {
   "cell_type": "markdown",
   "metadata": {},
   "source": [
    "Here we will try a baseline model for near t=0 then the full model to some time t>T"
   ]
  },
  {
   "cell_type": "code",
   "execution_count": 6,
   "metadata": {},
   "outputs": [
    {
     "name": "stderr",
     "output_type": "stream",
     "text": [
      "/Users/jambo/miniconda3/lib/python3.7/site-packages/pandas/core/indexes/base.py:162: FutureWarning: the 'labels' keyword is deprecated, use 'codes' instead\n",
      "  return cls.__new__(cls, **d)\n"
     ]
    }
   ],
   "source": [
    "labels_binary = load_pickle(ROOT_DIR + '/data/processed/labels/original.pickle')\n",
    "pred_base = load_pickle(ROOT_DIR + '/models/experiments/main/base_features_only/1/probas.pickle')\n",
    "pred_late = load_pickle(ROOT_DIR + '/models/experiments/main/new_solution_6/1/probas.pickle')"
   ]
  },
  {
   "cell_type": "markdown",
   "metadata": {},
   "source": [
    "Get original preds"
   ]
  },
  {
   "cell_type": "code",
   "execution_count": 10,
   "metadata": {},
   "outputs": [],
   "source": [
    "t_base, s_base = ThresholdOptimizer(jupyter=True).optimize(labels_binary, pred_base)"
   ]
  },
  {
   "cell_type": "code",
   "execution_count": 11,
   "metadata": {},
   "outputs": [],
   "source": [
    "t_late, s_late = ThresholdOptimizer(jupyter=True).optimize(labels_binary, pred_late)"
   ]
  },
  {
   "cell_type": "code",
   "execution_count": 12,
   "metadata": {},
   "outputs": [
    {
     "name": "stdout",
     "output_type": "stream",
     "text": [
      "Base:  0.3988286377390646\n",
      "Late:  0.4316213754810665\n"
     ]
    }
   ],
   "source": [
    "print('Base: ', s_base)\n",
    "print('Late: ', s_late)"
   ]
  },
  {
   "cell_type": "code",
   "execution_count": 18,
   "metadata": {},
   "outputs": [],
   "source": [
    "from copy import deepcopy"
   ]
  },
  {
   "cell_type": "code",
   "execution_count": 20,
   "metadata": {},
   "outputs": [
    {
     "name": "stdout",
     "output_type": "stream",
     "text": [
      "Time 0: 0.4312\n",
      "Time 1: 0.4310\n",
      "Time 2: 0.4305\n",
      "Time 3: 0.4308\n",
      "Time 4: 0.4308\n",
      "Time 5: 0.4303\n",
      "Time 6: 0.4296\n",
      "Time 7: 0.4279\n",
      "Time 8: 0.4274\n",
      "Time 9: 0.4265\n"
     ]
    }
   ],
   "source": [
    "for i in range(10):\n",
    "    new_preds = deepcopy(pred_late)\n",
    "    new_preds.loc[pd.IndexSlice[:, :i]] = pred_base.loc[pd.IndexSlice[:, :i]]\n",
    "    t, s = ThresholdOptimizer(jupyter=True).optimize(labels_binary, new_preds)\n",
    "    print(\"Time {}: {:.4f}\".format(i, s))"
   ]
  },
  {
   "cell_type": "code",
   "execution_count": null,
   "metadata": {},
   "outputs": [],
   "source": []
  }
 ],
 "metadata": {
  "kernelspec": {
   "display_name": "Python 3",
   "language": "python",
   "name": "python3"
  },
  "language_info": {
   "codemirror_mode": {
    "name": "ipython",
    "version": 3
   },
   "file_extension": ".py",
   "mimetype": "text/x-python",
   "name": "python",
   "nbconvert_exporter": "python",
   "pygments_lexer": "ipython3",
   "version": "3.7.3"
  }
 },
 "nbformat": 4,
 "nbformat_minor": 2
}
